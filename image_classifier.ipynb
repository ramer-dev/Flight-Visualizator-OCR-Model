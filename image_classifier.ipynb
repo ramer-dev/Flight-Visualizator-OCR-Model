{
 "cells": [
  {
   "cell_type": "code",
   "execution_count": 91,
   "metadata": {
    "collapsed": true,
    "ExecuteTime": {
     "end_time": "2023-05-19T08:50:25.289303400Z",
     "start_time": "2023-05-19T08:50:25.279290300Z"
    }
   },
   "outputs": [],
   "source": [
    "import tensorflow as tf\n",
    "import numpy as np\n",
    "import matplotlib.pyplot as plt"
   ]
  },
  {
   "cell_type": "code",
   "execution_count": 92,
   "outputs": [],
   "source": [
    "#1) 데이터 셋 : tf.keras.datasets.mnist, load_data()\n",
    "data_train, data_test = tf.keras.datasets.mnist.load_data()"
   ],
   "metadata": {
    "collapsed": false,
    "ExecuteTime": {
     "end_time": "2023-05-19T08:50:25.526290400Z",
     "start_time": "2023-05-19T08:50:25.290294600Z"
    }
   }
  },
  {
   "cell_type": "code",
   "execution_count": 93,
   "outputs": [],
   "source": [
    "# 2) 훈련 데이터 셋과 테스트 데이터 셋을 분할 (테스트 데이터 세트 20%)\n",
    "# 해당 데이터는 60000:10000으로 이미 나뉘어져 있었음.\n",
    "# 실제 데이터 활용 시 train_test_split(x, y, stratify=y, test_size=0.2) 적용\n",
    "from sklearn.model_selection import train_test_split\n",
    "\n",
    "(x, y), (x_test, y_test) = data\n",
    "\n",
    "# 3) 훈련 데이터 셋은 훈련, 검증으로 분할 (분할 율 : 8:2)\n",
    "x_train, x_val, y_train, y_val = train_test_split(x, y, stratify=y, test_size=0.2)"
   ],
   "metadata": {
    "collapsed": false,
    "ExecuteTime": {
     "end_time": "2023-05-19T08:50:25.586290200Z",
     "start_time": "2023-05-19T08:50:25.528293100Z"
    }
   }
  },
  {
   "cell_type": "code",
   "execution_count": 94,
   "outputs": [
    {
     "name": "stdout",
     "output_type": "stream",
     "text": [
      "(60000,)\n"
     ]
    },
    {
     "data": {
      "text/plain": "<Figure size 640x480 with 1 Axes>",
      "image/png": "[encoded data removed]"
     },
     "metadata": {},
     "output_type": "display_data"
    }
   ],
   "source": [
    "# 이미지 프리뷰\n",
    "plt.imshow(x[0], cmap='binary')\n",
    "print(y.shape)"
   ],
   "metadata": {
    "collapsed": false,
    "ExecuteTime": {
     "end_time": "2023-05-19T08:50:25.741290400Z",
     "start_time": "2023-05-19T08:50:25.587292400Z"
    }
   }
  },
  {
   "cell_type": "code",
   "execution_count": 95,
   "outputs": [
    {
     "name": "stdout",
     "output_type": "stream",
     "text": [
      "[4738 5394 4766 4905 4674 4337 4734 5012 4681 4759] [1185 1348 1192 1226 1168 1084 1184 1253 1170 1190]\n"
     ]
    }
   ],
   "source": [
    "# 개별 데이터 갯수 카운트\n",
    "print(np.bincount(y_train), np.bincount(y_val))"
   ],
   "metadata": {
    "collapsed": false,
    "ExecuteTime": {
     "end_time": "2023-05-19T08:50:25.823289400Z",
     "start_time": "2023-05-19T08:50:25.739292300Z"
    }
   }
  },
  {
   "cell_type": "code",
   "execution_count": 96,
   "outputs": [
    {
     "name": "stdout",
     "output_type": "stream",
     "text": [
      "(48000, 28, 28, 1) (48000, 10) \n",
      " (12000, 28, 28, 1) (12000, 10) \n",
      " (10000, 28, 28, 1) (10000, 10)\n"
     ]
    }
   ],
   "source": [
    "# 원 핫 인코딩 과정\n",
    "from tensorflow.keras.utils import to_categorical\n",
    "\n",
    "\n",
    "def one_hot_encoding(x_, y_):\n",
    "    # 데이터 정규화 과정\n",
    "    x_ = x_ / 255  # 0~255 까지의 값을 0~1로 출력\n",
    "    x_ = x_.reshape(-1, 28, 28, 1)\n",
    "    y_encoded = to_categorical(y_)  # 데이터 이진화\n",
    "    return x_, y_encoded\n",
    "\n",
    "\n",
    "x_train, y_train_encoded = one_hot_encoding(x_train, y_train)\n",
    "x_val, y_val_encoded = one_hot_encoding(x_val, y_val)\n",
    "x_test, y_test_encoded = one_hot_encoding(x_test,y_test)\n",
    "\n",
    "print(x_train.shape, y_train_encoded.shape , '\\n',\n",
    "      x_val.shape, y_val_encoded.shape, '\\n',\n",
    "      x_test.shape, y_test_encoded.shape)"
   ],
   "metadata": {
    "collapsed": false,
    "ExecuteTime": {
     "end_time": "2023-05-19T08:50:25.915289500Z",
     "start_time": "2023-05-19T08:50:25.755293400Z"
    }
   }
  },
  {
   "cell_type": "code",
   "execution_count": 97,
   "outputs": [],
   "source": [
    "# 분류 알고리즘 불러오기\n",
    "from tensorflow.keras import Sequential\n",
    "from tensorflow.keras.layers import Conv2D, Dropout, MaxPool2D, Flatten, Dense\n",
    "from tensorflow.keras.optimizers import Adam"
   ],
   "metadata": {
    "collapsed": false,
    "ExecuteTime": {
     "end_time": "2023-05-19T08:50:25.947289900Z",
     "start_time": "2023-05-19T08:50:25.918288800Z"
    }
   }
  },
  {
   "cell_type": "code",
   "execution_count": 98,
   "outputs": [],
   "source": [
    "model = Sequential([\n",
    "    Conv2D(kernel_size=(3, 3), filters=64, input_shape=(28, 28, 1), padding='same', activation='relu'),\n",
    "    Conv2D(kernel_size=(3, 3), filters=64, padding='same', activation='relu'),\n",
    "    MaxPool2D(pool_size=(2, 2)),\n",
    "\n",
    "    Conv2D(kernel_size=(3, 3), filters=128, padding='same', activation='relu'),\n",
    "    Conv2D(kernel_size=(3, 3), filters=256, padding='valid', activation='relu'),\n",
    "    MaxPool2D(pool_size=(2, 2)),\n",
    "\n",
    "    Flatten(),\n",
    "    Dense(units=512, activation='relu'),\n",
    "    Dropout(0.5),\n",
    "    Dense(units=256, activation='relu'),\n",
    "    Dropout(0.5),\n",
    "    Dense(units=10, activation='softmax'),\n",
    "\n",
    "])"
   ],
   "metadata": {
    "collapsed": false,
    "ExecuteTime": {
     "end_time": "2023-05-19T08:50:26.020336800Z",
     "start_time": "2023-05-19T08:50:25.947289900Z"
    }
   }
  },
  {
   "cell_type": "code",
   "execution_count": 102,
   "outputs": [
    {
     "name": "stdout",
     "output_type": "stream",
     "text": [
      "Model: \"sequential_8\"\n",
      "_________________________________________________________________\n",
      "Layer (type)                 Output Shape              Param #   \n",
      "=================================================================\n",
      "conv2d_34 (Conv2D)           (None, 28, 28, 64)        640       \n",
      "_________________________________________________________________\n",
      "conv2d_35 (Conv2D)           (None, 28, 28, 64)        36928     \n",
      "_________________________________________________________________\n",
      "max_pooling2d_17 (MaxPooling (None, 14, 14, 64)        0         \n",
      "_________________________________________________________________\n",
      "conv2d_36 (Conv2D)           (None, 14, 14, 128)       73856     \n",
      "_________________________________________________________________\n",
      "conv2d_37 (Conv2D)           (None, 12, 12, 256)       295168    \n",
      "_________________________________________________________________\n",
      "max_pooling2d_18 (MaxPooling (None, 6, 6, 256)         0         \n",
      "_________________________________________________________________\n",
      "flatten_8 (Flatten)          (None, 9216)              0         \n",
      "_________________________________________________________________\n",
      "dense_24 (Dense)             (None, 512)               4719104   \n",
      "_________________________________________________________________\n",
      "dropout_16 (Dropout)         (None, 512)               0         \n",
      "_________________________________________________________________\n",
      "dense_25 (Dense)             (None, 256)               131328    \n",
      "_________________________________________________________________\n",
      "dropout_17 (Dropout)         (None, 256)               0         \n",
      "_________________________________________________________________\n",
      "dense_26 (Dense)             (None, 10)                2570      \n",
      "=================================================================\n",
      "Total params: 5,259,594\n",
      "Trainable params: 5,259,594\n",
      "Non-trainable params: 0\n",
      "_________________________________________________________________\n"
     ]
    }
   ],
   "source": [
    "model.compile(loss='categorical_crossentropy', optimizer=Adam(learning_rate=0.001), metrics=[tf.keras.metrics.SparseCategoricalCrossentropy()])\n",
    "model.summary()"
   ],
   "metadata": {
    "collapsed": false,
    "ExecuteTime": {
     "end_time": "2023-05-19T08:51:11.141504Z",
     "start_time": "2023-05-19T08:51:11.105493400Z"
    }
   }
  },
  {
   "cell_type": "code",
   "execution_count": 107,
   "outputs": [
    {
     "name": "stdout",
     "output_type": "stream",
     "text": [
      "(10000, 10) (48000, 10)\n"
     ]
    }
   ],
   "source": [
    "model.fit(x_train, y_train_encoded, batch_size=100, epochs=10, validation_data=(x_test, y_test_encoded))"
   ],
   "metadata": {
    "collapsed": false,
    "ExecuteTime": {
     "end_time": "2023-05-19T08:52:02.275755900Z",
     "start_time": "2023-05-19T08:52:02.251759400Z"
    }
   }
  },
  {
   "cell_type": "code",
   "execution_count": null,
   "outputs": [],
   "source": [],
   "metadata": {
    "collapsed": false
   }
  }
 ],
 "metadata": {
  "kernelspec": {
   "display_name": "Python 3",
   "language": "python",
   "name": "python3"
  },
  "language_info": {
   "codemirror_mode": {
    "name": "ipython",
    "version": 2
   },
   "file_extension": ".py",
   "mimetype": "text/x-python",
   "name": "python",
   "nbconvert_exporter": "python",
   "pygments_lexer": "ipython2",
   "version": "2.7.6"
  }
 },
 "nbformat": 4,
 "nbformat_minor": 0
}
