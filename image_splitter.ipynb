{
 "cells": [
  {
   "cell_type": "code",
   "execution_count": 125,
   "metadata": {
    "collapsed": true,
    "ExecuteTime": {
     "end_time": "2023-05-18T11:23:46.065501300Z",
     "start_time": "2023-05-18T11:23:46.061001300Z"
    }
   },
   "outputs": [],
   "source": [
    "import cv2\n",
    "import matplotlib.pyplot as plt\n",
    "import numpy as np"
   ]
  },
  {
   "cell_type": "code",
   "execution_count": 126,
   "outputs": [],
   "source": [
    "# img import 및 그레이스케일 화\n",
    "img = cv2.imread('img/20230517224803_00001.jpg')\n",
    "img = cv2.cvtColor(img, cv2.COLOR_BGR2GRAY)\n",
    "img = cv2.GaussianBlur(img, (3,3), 0)"
   ],
   "metadata": {
    "collapsed": false,
    "ExecuteTime": {
     "end_time": "2023-05-18T11:23:46.097501Z",
     "start_time": "2023-05-18T11:23:46.066501100Z"
    }
   }
  },
  {
   "cell_type": "code",
   "execution_count": 127,
   "outputs": [],
   "source": [
    "# 색상 반전\n",
    "# invert = img.copy()\n",
    "# invert = 255 - invert\n",
    "# invert.size"
   ],
   "metadata": {
    "collapsed": false,
    "ExecuteTime": {
     "end_time": "2023-05-18T11:23:46.112543800Z",
     "start_time": "2023-05-18T11:23:46.098001700Z"
    }
   }
  },
  {
   "cell_type": "code",
   "execution_count": 127,
   "outputs": [],
   "source": [],
   "metadata": {
    "collapsed": false,
    "ExecuteTime": {
     "end_time": "2023-05-18T11:23:46.141799800Z",
     "start_time": "2023-05-18T11:23:46.113042800Z"
    }
   }
  },
  {
   "cell_type": "code",
   "execution_count": 128,
   "outputs": [
    {
     "name": "stdout",
     "output_type": "stream",
     "text": [
      "(2335, 1651)\n"
     ]
    },
    {
     "data": {
      "text/plain": "<matplotlib.image.AxesImage at 0x1e7dac097f0>"
     },
     "execution_count": 128,
     "metadata": {},
     "output_type": "execute_result"
    },
    {
     "data": {
      "text/plain": "<Figure size 432x288 with 1 Axes>",
      "image/png": "[encoded data removed]"
     },
     "metadata": {
      "needs_background": "light"
     },
     "output_type": "display_data"
    }
   ],
   "source": [
    "# 임계값 지정\n",
    "# ret, thresh = cv2.threshold(img, 210, 255, cv2.THRESH_BINARY_INV)\n",
    "thresh = cv2.Canny(img, 96, 255)\n",
    "\n",
    "# dilate (팽창)\n",
    "# dilate = cv2.dilate(thresh, (3,3), iterations=2)\n",
    "# cv2.imshow(\"2\", thresh)\n",
    "# cv2.waitKey(0)\n",
    "# cv2.destroyAllWindows()\n",
    "print(thresh.shape)\n",
    "plt.imshow(thresh, cmap='binary')"
   ],
   "metadata": {
    "collapsed": false,
    "ExecuteTime": {
     "end_time": "2023-05-18T11:23:47.088008200Z",
     "start_time": "2023-05-18T11:23:46.128800400Z"
    }
   }
  },
  {
   "cell_type": "code",
   "execution_count": 129,
   "outputs": [],
   "source": [
    "# 가장 넓이가 큰 경계값 찾기 ( 중앙의 결과값 테이블 )\n",
    "images, contours, hierarchy = cv2.findContours(thresh, cv2.RETR_EXTERNAL, cv2.CHAIN_APPROX_SIMPLE)\n",
    "# images = cv2.cvtColor(images, cv2.COLOR_GRAY2BGR)\n",
    "contour_array = sorted(contours, key=cv2.contourArea, reverse=True)\n",
    "\n",
    "table_data = contour_array[0]\n",
    "x, y, w, h = cv2.boundingRect(table_data)\n"
   ],
   "metadata": {
    "collapsed": false,
    "ExecuteTime": {
     "end_time": "2023-05-18T11:23:47.430022100Z",
     "start_time": "2023-05-18T11:23:47.090008800Z"
    }
   }
  },
  {
   "cell_type": "code",
   "execution_count": 130,
   "outputs": [],
   "source": [
    "# 칸마다 마진을 두어 탐색 진행\n",
    "\n",
    "col_count = 8\n",
    "row_count = 20\n",
    "\n",
    "margin = [4, 2]\n",
    "\n",
    "cell_width = round(w / col_count) - margin[0]\n",
    "cell_height = round(h / row_count) - margin[1]\n",
    "\n",
    "# cv2.putText(images, \"BIG AREA\", (x, y), cv2.FONT_ITALIC, 10, (255, 255, 0), 2)\n",
    "# cv2.rectangle(images, (x, y), (x + w, y + h), (255, 255, 0), 3)"
   ],
   "metadata": {
    "collapsed": false,
    "ExecuteTime": {
     "end_time": "2023-05-18T11:23:47.443521500Z",
     "start_time": "2023-05-18T11:23:47.430524100Z"
    }
   }
  },
  {
   "cell_type": "code",
   "execution_count": 131,
   "outputs": [
    {
     "data": {
      "text/plain": "(20, 8, 52, 158)"
     },
     "execution_count": 131,
     "metadata": {},
     "output_type": "execute_result"
    }
   ],
   "source": [
    "coord = [x, y]\n",
    "img_arr = []\n",
    "for y_ in range(row_count):\n",
    "    row = []\n",
    "    for x_ in range(col_count):\n",
    "        # if x_ == 0:\n",
    "        # continue\n",
    "        position = [coord[0] - round(cell_width * 0.05), coord[1] - round(cell_height * 0.05)]\n",
    "        # if y_ % 2 == 0 and x_ < 4:\n",
    "        #     cv2.imshow(str(y_) + '-' + str(x_),\n",
    "        #                images[position[1]:position[1] + cell_height, position[0]:position[0] + cell_width])\n",
    "        #     cv2.waitKey(0)\n",
    "        #     cv2.destroyAllWindows()\n",
    "\n",
    "        # cv2.rectangle(images, (position[0], position[1]),\n",
    "        #               (position[0] + cell_width + round(cell_width * 0.1),\n",
    "        #                position[1] + cell_height + round(cell_width * 0.1)), (255, 255, 0),\n",
    "        #               thickness=2)\n",
    "\n",
    "        row.append(images[position[1]:position[1] + cell_height + round(cell_width * 0.1),\n",
    "                    position[0]:position[0] + cell_width + round(cell_width * 0.1)])\n",
    "\n",
    "        coord[0] += cell_width + margin[0]\n",
    "\n",
    "    img_arr.append(row)\n",
    "    coord[1] += cell_height + margin[1]\n",
    "    coord[0] = x\n",
    "\n",
    "img_arr = np.array(img_arr)\n",
    "# cv2.imshow(\"ctr\", images)\n",
    "# cv2.waitKey(0)\n",
    "# cv2.destroyAllWindows()\n",
    "img_arr.shape  # return (row, col, height, width)"
   ],
   "metadata": {
    "collapsed": false,
    "ExecuteTime": {
     "end_time": "2023-05-18T11:23:48.215045Z",
     "start_time": "2023-05-18T11:23:47.447521400Z"
    }
   }
  },
  {
   "cell_type": "code",
   "execution_count": 132,
   "outputs": [
    {
     "name": "stdout",
     "output_type": "stream",
     "text": [
      "(38, 18, 5, 26)\n",
      "(47, 26, 12, 17)\n",
      "(64, 26, 4, 17)\n",
      "(74, 39, 2, 4)\n",
      "(87, 23, 12, 17)\n",
      "(35, 21, 3, 19)\n",
      "(46, 17, 9, 21)\n",
      "(61, 20, 10, 17)\n",
      "(78, 37, 3, 4)\n",
      "(90, 19, 9, 22)\n",
      "(31, 18, 3, 17)\n",
      "(44, 19, 11, 17)\n",
      "(60, 22, 9, 17)\n",
      "(78, 37, 3, 4)\n",
      "(85, 25, 13, 16)\n",
      "(102, 22, 10, 18)\n",
      "(114, 19, 11, 18)\n",
      "(27, 20, 4, 15)\n",
      "(41, 18, 11, 15)\n",
      "(64, 18, 9, 21)\n",
      "(81, 37, 3, 3)\n",
      "(93, 19, 13, 18)\n",
      "(111, 27, 1, 3)\n",
      "(114, 21, 7, 19)\n",
      "(129, 21, 8, 16)\n",
      "(34, 17, 16, 19)\n",
      "(61, 16, 12, 20)\n",
      "(81, 13, 9, 18)\n",
      "(93, 31, 3, 4)\n",
      "(98, 14, 10, 21)\n",
      "(36, 18, 15, 12)\n",
      "(52, 16, 15, 19)\n",
      "(71, 17, 8, 18)\n",
      "(85, 31, 4, 5)\n",
      "(95, 16, 8, 12)\n",
      "(37, 20, 9, 17)\n",
      "(54, 18, 13, 18)\n",
      "(70, 17, 7, 21)\n",
      "(83, 23, 2, 2)\n",
      "(86, 34, 3, 3)\n",
      "(95, 18, 12, 16)\n"
     ]
    }
   ],
   "source": [
    "for y in img_arr:\n",
    "    for x in y:\n",
    "        img_ctr, contours_, _ = cv2.findContours(x, cv2.RETR_TREE, cv2.CHAIN_APPROX_NONE)\n",
    "        boundary = [cv2.boundingRect(each) for each in contours_]\n",
    "        boundary = sorted(boundary)\n",
    "\n",
    "        cv2.imshow(\"ctr\", x)\n",
    "        cv2.waitKey(0)\n",
    "        cv2.destroyAllWindows()\n",
    "\n",
    "        # 가장 밖에 있는 경계선 찾기\n",
    "        contour_sizes = [(cv2.contourArea(contour), contour) for contour in contours_]\n",
    "        biggest_contour = max(contour_sizes, key=lambda x: x[0])[1]\n",
    "\n",
    "        # 경계선 검은색으로 칠하기\n",
    "        cv2.drawContours(img_ctr, biggest_contour, -1, (0,0,0), 4)\n",
    "\n",
    "        cv2.imshow(\"ctr\", img_ctr)\n",
    "        cv2.waitKey(0)\n",
    "        cv2.destroyAllWindows()\n",
    "\n",
    "        # 칠한 경계선 지우고 다시 숫자의 경계 직사각형 찾기\n",
    "        # ret_, img_th = cv2.threshold(img_ctr, 127, 255, cv2.THRESH_BINARY_INV)\n",
    "        img_ctr, contours_, _ = cv2.findContours(img_ctr.copy(), cv2.RETR_EXTERNAL, cv2.CHAIN_APPROX_NONE)\n",
    "\n",
    "\n",
    "        # 경계 직사각형 그리기\n",
    "        boundary_rects = [cv2.boundingRect(each) for each in contours_]\n",
    "        boundary_rects = sorted(boundary_rects)\n",
    "        for rect in boundary_rects:\n",
    "            minimum = (cell_width * 0.05) * (cell_height * 0.05)\n",
    "\n",
    "            # if abs(rect[0] - rect[2]) > 10 and abs(rect[1] - rect[3]) > 10:\n",
    "            if (abs(rect[0] - rect[2]) * (rect[1] - rect[3])) > minimum:\n",
    "                print(f'x:{rect[0] - rect[2]} y:{rect[1] - rect[3]} | received {(rect[0] - rect[2]) * (rect[1] - rect[3])}')\n",
    "                cv2.rectangle(img_ctr, (rect[0], rect[1]), (rect[0]+rect[2], rect[1]+rect[3]), (255,255,255), 1)\n",
    "\n",
    "        cv2.imshow(\"ctr\", img_ctr)\n",
    "        cv2.waitKey(0)\n",
    "        cv2.destroyAllWindows()\n",
    "        break\n",
    "#\n",
    "#         img_indiv, ct, hi = cv2.findContours(x, cv2.RETR_EXTERNAL, cv2.CHAIN_APPROX_NONE)\n",
    "#\n",
    "#         rect = [cv2.boundingRect(each) for each in ct]\n",
    "#         rect = sorted(rect)\n",
    "#\n",
    "#         print(rect)\n",
    "#         for rec in rect:\n",
    "#             # print(rec)\n",
    "#             cv2.circle(img_indiv, (rec[0], rec[1]), 10, (0, 0, 255), -1)\n",
    "#             cv2.circle(img_indiv, (rec[0] + rec[2], rec[1] + rec[3]), 10, (0, 0, 255), -1)\n",
    "#             cv2.rectangle(img_indiv, (rec[0], rec[1]), (rec[0] + rec[2], rec[1] + rec[3]), (0, 255, 0), 3)\n",
    "#         cv2.imshow('a', img_indiv)\n",
    "#         cv2.waitKey(0)\n",
    "#         cv2.destroyAllWindows()\n",
    "#\n"
   ],
   "metadata": {
    "collapsed": false,
    "ExecuteTime": {
     "end_time": "2023-05-18T11:24:14.239445700Z",
     "start_time": "2023-05-18T11:23:48.208547500Z"
    }
   }
  },
  {
   "cell_type": "code",
   "execution_count": 133,
   "outputs": [],
   "source": [
    "resize = cv2.resize(images, dsize=(0, 0), fx=0.5, fy=0.5, interpolation=cv2.INTER_LINEAR)\n",
    "cv2.imshow(\"area\", resize)\n",
    "cv2.waitKey(0)\n",
    "cv2.destroyAllWindows()"
   ],
   "metadata": {
    "collapsed": false,
    "ExecuteTime": {
     "end_time": "2023-05-18T11:24:14.863345200Z",
     "start_time": "2023-05-18T11:24:14.222448400Z"
    }
   }
  },
  {
   "cell_type": "code",
   "execution_count": 133,
   "outputs": [],
   "source": [],
   "metadata": {
    "collapsed": false,
    "ExecuteTime": {
     "end_time": "2023-05-18T11:24:14.870844900Z",
     "start_time": "2023-05-18T11:24:14.855844900Z"
    }
   }
  },
  {
   "cell_type": "code",
   "execution_count": 133,
   "outputs": [],
   "source": [],
   "metadata": {
    "collapsed": false,
    "ExecuteTime": {
     "end_time": "2023-05-18T11:24:14.888345200Z",
     "start_time": "2023-05-18T11:24:14.871345200Z"
    }
   }
  }
 ],
 "metadata": {
  "kernelspec": {
   "display_name": "Python 3",
   "language": "python",
   "name": "python3"
  },
  "language_info": {
   "codemirror_mode": {
    "name": "ipython",
    "version": 2
   },
   "file_extension": ".py",
   "mimetype": "text/x-python",
   "name": "python",
   "nbconvert_exporter": "python",
   "pygments_lexer": "ipython2",
   "version": "2.7.6"
  }
 },
 "nbformat": 4,
 "nbformat_minor": 0
}
