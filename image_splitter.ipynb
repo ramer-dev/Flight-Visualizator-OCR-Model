{
 "cells": [
  {
   "cell_type": "code",
   "execution_count": 1,
   "metadata": {
    "collapsed": true,
    "ExecuteTime": {
     "end_time": "2023-05-18T05:28:08.782901600Z",
     "start_time": "2023-05-18T05:28:08.273903Z"
    }
   },
   "outputs": [],
   "source": [
    "import cv2\n",
    "import matplotlib.pyplot as plt\n",
    "import numpy as np"
   ]
  },
  {
   "cell_type": "code",
   "execution_count": 2,
   "outputs": [],
   "source": [
    "# img import 및 그레이스케일 화\n",
    "img = cv2.imread('img/20230517224803_00001.jpg')\n",
    "img = cv2.cvtColor(img, cv2.COLOR_BGR2GRAY)\n",
    "img = cv2.GaussianBlur(img, (3,3), 0)"
   ],
   "metadata": {
    "collapsed": false,
    "ExecuteTime": {
     "end_time": "2023-05-18T05:30:32.986354300Z",
     "start_time": "2023-05-18T05:30:32.899644800Z"
    }
   }
  },
  {
   "cell_type": "code",
   "execution_count": 3,
   "outputs": [],
   "source": [
    "# 색상 반전\n",
    "# invert = img.copy()\n",
    "# invert = 255 - invert\n",
    "# invert.size"
   ],
   "metadata": {
    "collapsed": false,
    "ExecuteTime": {
     "end_time": "2023-05-18T05:30:33.549569300Z",
     "start_time": "2023-05-18T05:30:33.537571200Z"
    }
   }
  },
  {
   "cell_type": "code",
   "execution_count": 3,
   "outputs": [],
   "source": [],
   "metadata": {
    "collapsed": false,
    "ExecuteTime": {
     "end_time": "2023-05-18T05:30:35.476999500Z",
     "start_time": "2023-05-18T05:30:35.461000400Z"
    }
   }
  },
  {
   "cell_type": "code",
   "execution_count": 4,
   "outputs": [
    {
     "name": "stdout",
     "output_type": "stream",
     "text": [
      "(2335, 1651)\n"
     ]
    },
    {
     "data": {
      "text/plain": "<matplotlib.image.AxesImage at 0x1e14d7b92e8>"
     },
     "execution_count": 4,
     "metadata": {},
     "output_type": "execute_result"
    },
    {
     "data": {
      "text/plain": "<Figure size 432x288 with 1 Axes>",
      "image/png": "[encoded data removed]"
     },
     "metadata": {
      "needs_background": "light"
     },
     "output_type": "display_data"
    }
   ],
   "source": [
    "# 임계값 지정\n",
    "# ret, thresh = cv2.threshold(img, 210, 255, cv2.THRESH_BINARY_INV)\n",
    "thresh = cv2.Canny(img, 96, 255)\n",
    "\n",
    "# dilate (팽창)\n",
    "# dilate = cv2.dilate(thresh, (3,3), iterations=2)\n",
    "# cv2.imshow(\"2\", thresh)\n",
    "# cv2.waitKey(0)\n",
    "# cv2.destroyAllWindows()\n",
    "print(thresh.shape)\n",
    "plt.imshow(thresh, cmap='binary')"
   ],
   "metadata": {
    "collapsed": false,
    "ExecuteTime": {
     "end_time": "2023-05-18T05:30:36.737029900Z",
     "start_time": "2023-05-18T05:30:36.195013200Z"
    }
   }
  },
  {
   "cell_type": "code",
   "execution_count": 32,
   "outputs": [],
   "source": [
    "# 가장 넓이가 큰 경계값 찾기 ( 중앙의 결과값 테이블 )\n",
    "images, contours, hierarchy = cv2.findContours(thresh, cv2.RETR_EXTERNAL, cv2.CHAIN_APPROX_SIMPLE)\n",
    "# images = cv2.cvtColor(images, cv2.COLOR_GRAY2BGR)\n",
    "contour_array = sorted(contours, key=cv2.contourArea, reverse=True)\n",
    "\n",
    "table_data = contour_array[0]\n",
    "x, y, w, h = cv2.boundingRect(table_data)\n"
   ],
   "metadata": {
    "collapsed": false,
    "ExecuteTime": {
     "end_time": "2023-05-16T17:39:29.176730Z",
     "start_time": "2023-05-16T17:39:29.133226200Z"
    }
   }
  },
  {
   "cell_type": "code",
   "execution_count": 7,
   "outputs": [],
   "source": [
    "# 칸마다 마진을 두어 탐색 진행\n",
    "\n",
    "col_count = 8\n",
    "row_count = 20\n",
    "\n",
    "margin = [4, 2]\n",
    "\n",
    "cell_width = round(w / col_count) - margin[0]\n",
    "cell_height = round(h / row_count) - margin[1]\n",
    "\n",
    "# cv2.putText(images, \"BIG AREA\", (x, y), cv2.FONT_ITALIC, 10, (255, 255, 0), 2)\n",
    "# cv2.rectangle(images, (x, y), (x + w, y + h), (255, 255, 0), 3)"
   ],
   "metadata": {
    "collapsed": false,
    "ExecuteTime": {
     "end_time": "2023-05-16T17:39:29.181730300Z",
     "start_time": "2023-05-16T17:39:29.148733700Z"
    }
   }
  },
  {
   "cell_type": "code",
   "execution_count": 8,
   "outputs": [
    {
     "data": {
      "text/plain": "(20, 8, 66, 172)"
     },
     "execution_count": 8,
     "metadata": {},
     "output_type": "execute_result"
    }
   ],
   "source": [
    "coord = [x, y]\n",
    "img_arr = []\n",
    "for y_ in range(row_count):\n",
    "    row = []\n",
    "    for x_ in range(col_count):\n",
    "        # if x_ == 0:\n",
    "        # continue\n",
    "        position = [coord[0] - round(cell_width * 0.05), coord[1] - round(cell_height * 0.05)]\n",
    "        # if y_ % 2 == 0 and x_ < 4:\n",
    "        #     cv2.imshow(str(y_) + '-' + str(x_),\n",
    "        #                images[position[1]:position[1] + cell_height, position[0]:position[0] + cell_width])\n",
    "        #     cv2.waitKey(0)\n",
    "        #     cv2.destroyAllWindows()\n",
    "\n",
    "        # cv2.rectangle(images, (position[0], position[1]),\n",
    "        #               (position[0] + cell_width + round(cell_width * 0.1),\n",
    "        #                position[1] + cell_height + round(cell_width * 0.1)), (255, 255, 0),\n",
    "        #               thickness=2)\n",
    "\n",
    "        row.append(images[position[1]:position[1] + cell_height + round(cell_width * 0.1),\n",
    "                    position[0]:position[0] + cell_width + round(cell_width * 0.1)])\n",
    "\n",
    "        coord[0] += cell_width + margin[0]\n",
    "\n",
    "    img_arr.append(row)\n",
    "    coord[1] += cell_height + margin[1]\n",
    "    coord[0] = x\n",
    "\n",
    "img_arr = np.array(img_arr)\n",
    "# cv2.imshow(\"ctr\", images)\n",
    "# cv2.waitKey(0)\n",
    "# cv2.destroyAllWindows()\n",
    "img_arr.shape  # return (row, col, height, width)"
   ],
   "metadata": {
    "collapsed": false,
    "ExecuteTime": {
     "end_time": "2023-05-16T17:39:29.181730300Z",
     "start_time": "2023-05-16T17:39:29.176730Z"
    }
   }
  },
  {
   "cell_type": "code",
   "execution_count": 9,
   "outputs": [
    {
     "name": "stdout",
     "output_type": "stream",
     "text": [
      "x:14 y:4 | received 56\n",
      "x:13 y:4 | received 52\n",
      "x:28 y:56 | received 1568\n",
      "x:32 y:29 | received 928\n",
      "x:35 y:23 | received 805\n",
      "x:41 y:5 | received 205\n",
      "x:57 y:5 | received 285\n",
      "x:78 y:5 | received 390\n",
      "x:89 y:5 | received 445\n",
      "x:101 y:5 | received 505\n",
      "x:98 y:5 | received 490\n",
      "x:116 y:5 | received 580\n",
      "x:120 y:5 | received 600\n",
      "x:157 y:5 | received 785\n",
      "x:2 y:57 | received 114\n",
      "x:2 y:55 | received 110\n",
      "x:9 y:55 | received 495\n",
      "x:16 y:55 | received 880\n",
      "x:28 y:4 | received 112\n",
      "x:27 y:57 | received 1539\n",
      "x:-88 y:54 | received -4752\n",
      "x:4 y:55 | received 220\n",
      "x:9 y:3 | received 27\n",
      "x:17 y:55 | received 935\n",
      "x:16 y:3 | received 48\n",
      "x:23 y:55 | received 1265\n",
      "x:27 y:5 | received 135\n",
      "x:35 y:50 | received 1750\n",
      "x:35 y:49 | received 1715\n",
      "x:-88 y:2 | received -176\n",
      "x:-86 y:55 | received -4730\n",
      "x:10 y:55 | received 550\n",
      "x:17 y:3 | received 51\n",
      "x:21 y:57 | received 1197\n",
      "x:23 y:3 | received 69\n",
      "x:33 y:52 | received 1716\n",
      "x:-88 y:54 | received -4752\n",
      "x:-86 y:3 | received -258\n",
      "x:-1 y:54 | received -54\n",
      "x:10 y:53 | received 530\n",
      "x:10 y:3 | received 30\n",
      "x:19 y:56 | received 1064\n",
      "x:21 y:5 | received 105\n",
      "x:21 y:54 | received 1134\n",
      "x:32 y:50 | received 1600\n",
      "x:-88 y:2 | received -176\n",
      "x:2 y:55 | received 110\n",
      "x:11 y:52 | received 572\n",
      "x:19 y:4 | received 76\n",
      "x:19 y:55 | received 1045\n",
      "x:21 y:2 | received 42\n",
      "x:31 y:23 | received 713\n",
      "x:-88 y:54 | received -4752\n",
      "x:19 y:3 | received 57\n",
      "x:28 y:55 | received 1540\n",
      "x:34 y:10 | received 340\n",
      "x:34 y:22 | received 748\n",
      "x:34 y:21 | received 714\n",
      "x:34 y:31 | received 1054\n",
      "x:34 y:26 | received 884\n",
      "x:33 y:47 | received 1551\n",
      "x:34 y:61 | received 2074\n",
      "x:-88 y:2 | received -176\n",
      "x:-88 y:53 | received -4664\n",
      "x:10 y:53 | received 530\n",
      "x:18 y:54 | received 972\n",
      "x:28 y:3 | received 84\n",
      "x:34 y:7 | received 238\n",
      "x:-88 y:1 | received -88\n",
      "x:-88 y:52 | received -4576\n",
      "x:-3 y:54 | received -162\n",
      "x:3 y:53 | received 159\n",
      "x:17 y:53 | received 901\n",
      "x:18 y:2 | received 36\n",
      "x:4 y:53 | received 212\n",
      "x:17 y:53 | received 901\n",
      "x:21 y:53 | received 1113\n",
      "x:32 y:43 | received 1376\n",
      "x:-90 y:52 | received -4680\n",
      "x:8 y:54 | received 432\n",
      "x:19 y:54 | received 1026\n",
      "x:21 y:1 | received 21\n",
      "x:31 y:51 | received 1581\n",
      "x:10 y:52 | received 520\n",
      "x:19 y:2 | received 38\n",
      "x:18 y:52 | received 936\n",
      "x:30 y:40 | received 1200\n",
      "x:31 y:1 | received 31\n",
      "x:33 y:14 | received 462\n",
      "x:33 y:21 | received 693\n",
      "x:33 y:26 | received 858\n",
      "x:33 y:29 | received 957\n",
      "x:33 y:35 | received 1155\n",
      "x:33 y:61 | received 2013\n",
      "x:7 y:53 | received 371\n",
      "x:-5 y:52 | received -260\n",
      "x:-92 y:50 | received -4600\n",
      "x:5 y:51 | received 255\n",
      "x:3 y:48 | received 144\n",
      "x:29 y:46 | received 1334\n",
      "x:33 y:11 | received 363\n",
      "x:33 y:30 | received 990\n",
      "x:-92 y:51 | received -4692\n",
      "x:-4 y:50 | received -200\n",
      "x:28 y:42 | received 1176\n",
      "x:31 y:2 | received 62\n",
      "x:32 y:25 | received 800\n",
      "x:-6 y:49 | received -294\n",
      "x:8 y:49 | received 392\n",
      "x:16 y:49 | received 784\n",
      "x:18 y:48 | received 864\n",
      "x:32 y:14 | received 448\n",
      "x:32 y:11 | received 352\n",
      "x:32 y:25 | received 800\n",
      "x:32 y:28 | received 896\n",
      "x:32 y:41 | received 1312\n",
      "x:32 y:45 | received 1440\n",
      "x:31 y:37 | received 1147\n",
      "x:-92 y:48 | received -4416\n",
      "x:-5 y:51 | received -255\n",
      "x:7 y:49 | received 343\n",
      "x:7 y:49 | received 343\n",
      "x:-94 y:50 | received -4700\n",
      "x:-2 y:49 | received -98\n",
      "x:1 y:50 | received 50\n",
      "x:28 y:46 | received 1288\n",
      "x:32 y:4 | received 128\n",
      "x:-94 y:48 | received -4512\n",
      "x:30 y:45 | received 1350\n"
     ]
    }
   ],
   "source": [
    "for y in img_arr:\n",
    "    for x in y:\n",
    "        img_ctr, contours_, _ = cv2.findContours(x, cv2.RETR_TREE, cv2.CHAIN_APPROX_NONE)\n",
    "        boundary = [cv2.boundingRect(each) for each in contours_]\n",
    "        boundary = sorted(boundary)\n",
    "\n",
    "        cv2.imshow(\"ctr\", x)\n",
    "        cv2.waitKey(0)\n",
    "        cv2.destroyAllWindows()\n",
    "\n",
    "        # 가장 밖에 있는 경계선 찾기\n",
    "        contour_sizes = [(cv2.contourArea(contour), contour) for contour in contours_]\n",
    "        biggest_contour = max(contour_sizes, key=lambda x: x[0])[1]\n",
    "\n",
    "        # 경계선 검은색으로 칠하기\n",
    "        cv2.drawContours(img_ctr, biggest_contour, -1, (0,0,0), 4)\n",
    "\n",
    "        cv2.imshow(\"ctr\", img_ctr)\n",
    "        cv2.waitKey(0)\n",
    "        cv2.destroyAllWindows()\n",
    "\n",
    "        # 칠한 경계선 지우고 다시 숫자의 경계 직사각형 찾기\n",
    "        # ret_, img_th = cv2.threshold(img_ctr, 127, 255, cv2.THRESH_BINARY_INV)\n",
    "        img_ctr, contours_, _ = cv2.findContours(img_ctr.copy(), cv2.RETR_EXTERNAL, cv2.CHAIN_APPROX_NONE)\n",
    "\n",
    "\n",
    "        # 경계 직사각형 그리기\n",
    "        boundary_rects = [cv2.boundingRect(each) for each in contours_]\n",
    "        boundary_rects = sorted(boundary_rects)\n",
    "        for rect in boundary_rects:\n",
    "            minimum = (cell_width * 0.05) * (cell_height * 0.05)\n",
    "\n",
    "            # if abs(rect[0] - rect[2]) > 10 and abs(rect[1] - rect[3]) > 10:\n",
    "            if (abs(rect[0] - rect[2]) * (rect[1] - rect[3])) > minimum:\n",
    "                print(f'x:{rect[0] - rect[2]} y:{rect[1] - rect[3]} | received {(rect[0] - rect[2]) * (rect[1] - rect[3])}')\n",
    "                cv2.rectangle(img_ctr, (rect[0], rect[1]), (rect[0]+rect[2], rect[1]+rect[3]), (255,255,255), 1)\n",
    "\n",
    "        cv2.imshow(\"ctr\", img_ctr)\n",
    "        cv2.waitKey(0)\n",
    "        cv2.destroyAllWindows()\n",
    "        break\n",
    "#\n",
    "#         img_indiv, ct, hi = cv2.findContours(x, cv2.RETR_EXTERNAL, cv2.CHAIN_APPROX_NONE)\n",
    "#\n",
    "#         rect = [cv2.boundingRect(each) for each in ct]\n",
    "#         rect = sorted(rect)\n",
    "#\n",
    "#         print(rect)\n",
    "#         for rec in rect:\n",
    "#             # print(rec)\n",
    "#             cv2.circle(img_indiv, (rec[0], rec[1]), 10, (0, 0, 255), -1)\n",
    "#             cv2.circle(img_indiv, (rec[0] + rec[2], rec[1] + rec[3]), 10, (0, 0, 255), -1)\n",
    "#             cv2.rectangle(img_indiv, (rec[0], rec[1]), (rec[0] + rec[2], rec[1] + rec[3]), (0, 255, 0), 3)\n",
    "#         cv2.imshow('a', img_indiv)\n",
    "#         cv2.waitKey(0)\n",
    "#         cv2.destroyAllWindows()\n",
    "#\n"
   ],
   "metadata": {
    "collapsed": false
   }
  },
  {
   "cell_type": "code",
   "execution_count": 9,
   "outputs": [],
   "source": [
    "resize = cv2.resize(images, dsize=(0, 0), fx=0.5, fy=0.5, interpolation=cv2.INTER_LINEAR)\n",
    "cv2.imshow(\"area\", resize)\n",
    "cv2.waitKey(0)\n",
    "cv2.destroyAllWindows()"
   ],
   "metadata": {
    "collapsed": false,
    "ExecuteTime": {
     "end_time": "2023-05-16T17:39:59.946297300Z",
     "start_time": "2023-05-16T17:39:29.179231300Z"
    }
   }
  },
  {
   "cell_type": "code",
   "execution_count": 9,
   "outputs": [],
   "source": [],
   "metadata": {
    "collapsed": false,
    "ExecuteTime": {
     "end_time": "2023-05-16T17:39:59.961293300Z",
     "start_time": "2023-05-16T17:39:59.946796900Z"
    }
   }
  },
  {
   "cell_type": "code",
   "execution_count": 9,
   "outputs": [],
   "source": [],
   "metadata": {
    "collapsed": false,
    "ExecuteTime": {
     "end_time": "2023-05-16T17:39:59.977654200Z",
     "start_time": "2023-05-16T17:39:59.962293100Z"
    }
   }
  }
 ],
 "metadata": {
  "kernelspec": {
   "display_name": "Python 3",
   "language": "python",
   "name": "python3"
  },
  "language_info": {
   "codemirror_mode": {
    "name": "ipython",
    "version": 2
   },
   "file_extension": ".py",
   "mimetype": "text/x-python",
   "name": "python",
   "nbconvert_exporter": "python",
   "pygments_lexer": "ipython2",
   "version": "2.7.6"
  }
 },
 "nbformat": 4,
 "nbformat_minor": 0
}
