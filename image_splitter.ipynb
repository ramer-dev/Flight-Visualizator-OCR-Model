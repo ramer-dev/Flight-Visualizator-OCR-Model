{
 "cells": [
  {
   "cell_type": "code",
   "execution_count": 6,
   "metadata": {
    "collapsed": true,
    "ExecuteTime": {
     "end_time": "2023-05-19T07:33:42.397473800Z",
     "start_time": "2023-05-19T07:33:42.332476700Z"
    }
   },
   "outputs": [],
   "source": [
    "import cv2\n",
    "import matplotlib.pyplot as plt\n",
    "import numpy as np"
   ]
  },
  {
   "cell_type": "code",
   "execution_count": 7,
   "outputs": [],
   "source": [
    "# img import 및 그레이스케일 화\n",
    "img = cv2.imread('img/20230516182409_00001.jpg')\n",
    "img = cv2.cvtColor(img, cv2.COLOR_BGR2GRAY)\n",
    "img = cv2.GaussianBlur(img, (3, 3), 0)"
   ],
   "metadata": {
    "collapsed": false,
    "ExecuteTime": {
     "end_time": "2023-05-19T07:33:42.748476200Z",
     "start_time": "2023-05-19T07:33:42.352478600Z"
    }
   }
  },
  {
   "cell_type": "code",
   "execution_count": 8,
   "outputs": [],
   "source": [
    "# 색상 반전\n",
    "# invert = img.copy()\n",
    "# invert = 255 - invert\n",
    "# invert.size"
   ],
   "metadata": {
    "collapsed": false,
    "ExecuteTime": {
     "end_time": "2023-05-19T07:33:42.832472500Z",
     "start_time": "2023-05-19T07:33:42.749476100Z"
    }
   }
  },
  {
   "cell_type": "code",
   "execution_count": 8,
   "outputs": [],
   "source": [],
   "metadata": {
    "collapsed": false,
    "ExecuteTime": {
     "end_time": "2023-05-19T07:33:42.921473700Z",
     "start_time": "2023-05-19T07:33:42.773476900Z"
    }
   }
  },
  {
   "cell_type": "code",
   "execution_count": 9,
   "outputs": [
    {
     "name": "stdout",
     "output_type": "stream",
     "text": [
      "(2335, 1651)\n"
     ]
    },
    {
     "data": {
      "text/plain": "<matplotlib.image.AxesImage at 0x1e14dbae400>"
     },
     "execution_count": 9,
     "metadata": {},
     "output_type": "execute_result"
    },
    {
     "data": {
      "text/plain": "<Figure size 432x288 with 1 Axes>",
      "image/png": "[encoded data removed]"
     },
     "metadata": {
      "needs_background": "light"
     },
     "output_type": "display_data"
    }
   ],
   "source": [
    "# 임계값 지정\n",
    "ret, thresh = cv2.threshold(img, 180, 255, cv2.THRESH_BINARY_INV)\n",
    "# thresh = cv2.Canny(img, 96, 255)\n",
    "\n",
    "# dilate (팽창)\n",
    "# dilate = cv2.dilate(thresh, (3,3), iterations=2)\n",
    "cv2.imshow(\"2\", thresh)\n",
    "cv2.waitKey(0)\n",
    "cv2.destroyAllWindows()\n",
    "print(thresh.shape)\n",
    "plt.imshow(thresh, cmap='binary')"
   ],
   "metadata": {
    "collapsed": false,
    "ExecuteTime": {
     "end_time": "2023-05-19T07:33:44.622844200Z",
     "start_time": "2023-05-19T07:33:42.832472500Z"
    }
   }
  },
  {
   "cell_type": "code",
   "execution_count": 10,
   "outputs": [],
   "source": [
    "# 가장 넓이가 큰 경계값 찾기 ( 중앙의 결과값 테이블 )\n",
    "images, contours, hierarchy = cv2.findContours(thresh, cv2.RETR_EXTERNAL, cv2.CHAIN_APPROX_SIMPLE)\n",
    "# images = cv2.cvtColor(images, cv2.COLOR_GRAY2BGR)\n",
    "contour_array = sorted(contours, key=cv2.contourArea, reverse=True)\n",
    "\n",
    "x, y, w, h = cv2.boundingRect(contour_array[0])\n",
    "table_data = images[y:y + h, x:x + w]\n",
    "\n",
    "x_, y_, w_, h_ = cv2.boundingRect(contour_array[1])\n",
    "site_data = images[y_:y_ + h_, x_:x_ + w_]\n",
    "\n",
    "cv2.imshow(\"ctr\", table_data)\n",
    "cv2.imshow(\"ctr2\", site_data)\n",
    "cv2.waitKey(0)\n",
    "cv2.destroyAllWindows()"
   ],
   "metadata": {
    "collapsed": false,
    "ExecuteTime": {
     "end_time": "2023-05-19T07:33:45.720468200Z",
     "start_time": "2023-05-19T07:33:44.622844200Z"
    }
   }
  },
  {
   "cell_type": "code",
   "execution_count": 11,
   "outputs": [],
   "source": [
    "# 칸마다 마진을 두어 탐색 진행\n",
    "\n",
    "col_count = 8\n",
    "row_count = 20\n",
    "\n",
    "cell_width = round(w / col_count)\n",
    "cell_height = round(h / row_count)\n",
    "\n",
    "# cv2.putText(images, \"BIG AREA\", (x, y), cv2.FONT_ITALIC, 10, (255, 255, 0), 2)\n",
    "# cv2.rectangle(images, (x, y), (x + w, y + h), (255, 255, 0), 3)"
   ],
   "metadata": {
    "collapsed": false,
    "ExecuteTime": {
     "end_time": "2023-05-19T07:33:45.766466700Z",
     "start_time": "2023-05-19T07:33:45.711662600Z"
    }
   }
  },
  {
   "cell_type": "code",
   "execution_count": 12,
   "outputs": [
    {
     "data": {
      "text/plain": "(20, 8, 52, 157)"
     },
     "execution_count": 12,
     "metadata": {},
     "output_type": "execute_result"
    }
   ],
   "source": [
    "coord = [x, y]\n",
    "img_arr = []\n",
    "for y_ in range(row_count):\n",
    "    row = []\n",
    "    for x_ in range(col_count):\n",
    "        # if x_ == 0:\n",
    "        # continue\n",
    "        position = [coord[0], coord[1]]\n",
    "        # if y_ % 2 == 0 and x_ < 4:\n",
    "        #     cv2.imshow(str(y_) + '-' + str(x_),\n",
    "        #                images[position[1]:position[1] + cell_height, position[0]:position[0] + cell_width])\n",
    "        #     cv2.waitKey(0)\n",
    "        #     cv2.destroyAllWindows()\n",
    "\n",
    "        cv2.rectangle(images, (position[0], position[1]),\n",
    "                      (position[0] + cell_width,\n",
    "                       position[1] + cell_height), (255, 255, 255),\n",
    "                      thickness=3)\n",
    "\n",
    "        row.append(images[position[1]:position[1] + cell_height,\n",
    "                   position[0]:position[0] + cell_width])\n",
    "\n",
    "        # cv2.imshow(\"ctr\", images)\n",
    "        # cv2.waitKey(0)\n",
    "        # cv2.destroyAllWindows()\n",
    "\n",
    "        coord[0] += cell_width\n",
    "    img_arr.append(row)\n",
    "    coord[1] += cell_height\n",
    "    coord[0] = x\n",
    "\n",
    "img_arr = np.array(img_arr)\n",
    "cv2.imshow(\"a\", images)\n",
    "cv2.waitKey(0)\n",
    "cv2.destroyAllWindows()\n",
    "img_arr.shape  # return (row, col, height, width)"
   ],
   "metadata": {
    "collapsed": false,
    "ExecuteTime": {
     "end_time": "2023-05-19T07:33:47.140862700Z",
     "start_time": "2023-05-19T07:33:45.766466700Z"
    }
   }
  },
  {
   "cell_type": "code",
   "execution_count": 13,
   "outputs": [],
   "source": [
    "find_rect = []\n",
    "for y in img_arr:\n",
    "    rect_row = []\n",
    "    for i in range(len(y)):\n",
    "        rect_col = []\n",
    "        img_ctr, contours_, _ = cv2.findContours(y[i], cv2.RETR_TREE, cv2.CHAIN_APPROX_NONE)\n",
    "        boundary = [cv2.boundingRect(each) for each in contours_]\n",
    "        boundary = sorted(boundary)\n",
    "\n",
    "        # 가장 밖에 있는 경계선 찾기\n",
    "        contour_sizes = [(cv2.contourArea(contour), contour) for contour in contours_]\n",
    "        biggest_contour = max(contour_sizes, key=lambda x: x[0])[1]\n",
    "\n",
    "        # 경계선 지우기\n",
    "        cv2.floodFill(img_ctr, None, (0, 0), 255)\n",
    "        cv2.floodFill(img_ctr, None, (0, 0), 0)\n",
    "\n",
    "        # 칠한 경계선 지우고 다시 숫자의 경계 직사각형 찾기\n",
    "        # ret_, img_th = cv2.threshold(img_ctr, 127, 255, cv2.THRESH_BINARY_INV)\n",
    "        img_ctr, contours_, _ = cv2.findContours(img_ctr.copy(), cv2.RETR_EXTERNAL, cv2.CHAIN_APPROX_NONE)\n",
    "\n",
    "        # 숫자 찾기\n",
    "        boundary_rects = [cv2.boundingRect(each) for each in contours_]\n",
    "        boundary_rects = sorted(boundary_rects)\n",
    "        for rect in boundary_rects:\n",
    "            # 세로가 5보다 클 경우 감지 ( 가로는 1과 같이 얇은 숫자때문에 제외함. )\n",
    "            if rect[3] > 5:\n",
    "                temp_image = img_ctr[rect[1]:rect[1] + rect[3], rect[0]:rect[0] + rect[2]]\n",
    "                row, col = temp_image.shape[:2]\n",
    "\n",
    "                # 정방형 비율을 맞춰주기 위한 변수\n",
    "                border_size = max(row, col)\n",
    "                diff = min(row, col)\n",
    "\n",
    "                # border 추가해서 정방형 비율로 보정\n",
    "                border = cv2.copyMakeBorder(\n",
    "                    temp_image,\n",
    "                    top=2,\n",
    "                    bottom=2,\n",
    "                    left=int((border_size - diff) / 2),\n",
    "                    right=int((border_size - diff) / 2),\n",
    "                    borderType=cv2.BORDER_CONSTANT,\n",
    "                    value=[0, 0, 0]\n",
    "                )\n",
    "\n",
    "                # sqaure size (28, 28)로 축소\n",
    "                resized_img = cv2.resize(border, dsize=(28, 28), interpolation=cv2.INTER_AREA)\n",
    "                rect_col.append(resized_img)\n",
    "                cv2.imshow(\"a\", resized_img)\n",
    "                cv2.waitKey(0)\n",
    "                cv2.destroyAllWindows()\n",
    "                cv2.rectangle(img_ctr, (rect[0], rect[1]), (rect[0] + rect[2], rect[1] + rect[3]), (255, 255, 255), 1)\n",
    "\n",
    "    find_rect.append(rect_row)\n"
   ],
   "metadata": {
    "collapsed": false,
    "ExecuteTime": {
     "end_time": "2023-05-19T07:34:21.505957100Z",
     "start_time": "2023-05-19T07:33:47.109865400Z"
    }
   }
  },
  {
   "cell_type": "code",
   "execution_count": 14,
   "outputs": [],
   "source": [
    "resize = cv2.resize(images, dsize=(0, 0), fx=0.5, fy=0.5, interpolation=cv2.INTER_LINEAR)\n",
    "cv2.imshow(\"area\", resize)\n",
    "cv2.waitKey(0)\n",
    "cv2.destroyAllWindows()"
   ],
   "metadata": {
    "collapsed": false,
    "ExecuteTime": {
     "end_time": "2023-05-19T07:34:21.612170400Z",
     "start_time": "2023-05-19T07:34:21.509958400Z"
    }
   }
  },
  {
   "cell_type": "code",
   "execution_count": 14,
   "outputs": [],
   "source": [],
   "metadata": {
    "collapsed": false,
    "ExecuteTime": {
     "end_time": "2023-05-19T07:34:21.627177100Z",
     "start_time": "2023-05-19T07:34:21.613171500Z"
    }
   }
  },
  {
   "cell_type": "code",
   "execution_count": 14,
   "outputs": [],
   "source": [],
   "metadata": {
    "collapsed": false,
    "ExecuteTime": {
     "end_time": "2023-05-19T07:34:21.642171300Z",
     "start_time": "2023-05-19T07:34:21.628171900Z"
    }
   }
  }
 ],
 "metadata": {
  "kernelspec": {
   "display_name": "Python 3",
   "language": "python",
   "name": "python3"
  },
  "language_info": {
   "codemirror_mode": {
    "name": "ipython",
    "version": 2
   },
   "file_extension": ".py",
   "mimetype": "text/x-python",
   "name": "python",
   "nbconvert_exporter": "python",
   "pygments_lexer": "ipython2",
   "version": "2.7.6"
  }
 },
 "nbformat": 4,
 "nbformat_minor": 0
}
