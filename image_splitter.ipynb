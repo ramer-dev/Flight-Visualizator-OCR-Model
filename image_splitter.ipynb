{
 "cells": [
  {
   "cell_type": "code",
   "execution_count": 166,
   "metadata": {
    "collapsed": true,
    "ExecuteTime": {
     "end_time": "2023-05-16T17:39:29.024292400Z",
     "start_time": "2023-05-16T17:39:29.007433600Z"
    }
   },
   "outputs": [],
   "source": [
    "import cv2\n",
    "import matplotlib.pyplot as plt\n",
    "import numpy as np"
   ]
  },
  {
   "cell_type": "code",
   "execution_count": 167,
   "outputs": [],
   "source": [
    "# img import 및 그레이스케일 화\n",
    "img = cv2.imread('img/20230516182409_00001.jpg')\n",
    "img = cv2.cvtColor(img, cv2.COLOR_BGR2GRAY)"
   ],
   "metadata": {
    "collapsed": false,
    "ExecuteTime": {
     "end_time": "2023-05-16T17:39:29.055291200Z",
     "start_time": "2023-05-16T17:39:29.023790800Z"
    }
   }
  },
  {
   "cell_type": "code",
   "execution_count": 168,
   "outputs": [
    {
     "data": {
      "text/plain": "3855085"
     },
     "execution_count": 168,
     "metadata": {},
     "output_type": "execute_result"
    }
   ],
   "source": [
    "# 색상 반전\n",
    "invert = img.copy()\n",
    "invert = 255 - invert\n",
    "invert.size"
   ],
   "metadata": {
    "collapsed": false,
    "ExecuteTime": {
     "end_time": "2023-05-16T17:39:29.069833600Z",
     "start_time": "2023-05-16T17:39:29.055793100Z"
    }
   }
  },
  {
   "cell_type": "code",
   "execution_count": 169,
   "outputs": [],
   "source": [
    "# cv2.imshow(\"2\", invert)\n",
    "# cv2.waitKey(500)\n",
    "# cv2.destroyAllWindows()"
   ],
   "metadata": {
    "collapsed": false,
    "ExecuteTime": {
     "end_time": "2023-05-16T17:39:29.114842800Z",
     "start_time": "2023-05-16T17:39:29.070832700Z"
    }
   }
  },
  {
   "cell_type": "code",
   "execution_count": 170,
   "outputs": [],
   "source": [
    "# 가우시안 블러 적용\n",
    "blurred = cv2.GaussianBlur(invert, (5, 5), 0)\n"
   ],
   "metadata": {
    "collapsed": false,
    "ExecuteTime": {
     "end_time": "2023-05-16T17:39:29.119343800Z",
     "start_time": "2023-05-16T17:39:29.085834300Z"
    }
   }
  },
  {
   "cell_type": "code",
   "execution_count": 171,
   "outputs": [],
   "source": [
    "# cv2.imshow(\"2\", blurred)\n",
    "# cv2.waitKey(0)\n",
    "# cv2.destroyAllWindows()"
   ],
   "metadata": {
    "collapsed": false,
    "ExecuteTime": {
     "end_time": "2023-05-16T17:39:29.119843400Z",
     "start_time": "2023-05-16T17:39:29.114842800Z"
    }
   }
  },
  {
   "cell_type": "code",
   "execution_count": 172,
   "outputs": [],
   "source": [
    "# 임계값 지정\n",
    "ret, thresh = cv2.threshold(img, 170, 255, cv2.THRESH_BINARY_INV)\n"
   ],
   "metadata": {
    "collapsed": false,
    "ExecuteTime": {
     "end_time": "2023-05-16T17:39:29.131725800Z",
     "start_time": "2023-05-16T17:39:29.117344600Z"
    }
   }
  },
  {
   "cell_type": "code",
   "execution_count": 173,
   "outputs": [
    {
     "name": "stdout",
     "output_type": "stream",
     "text": [
      "256 623 1259 1039\n"
     ]
    }
   ],
   "source": [
    "images, contours, hierarchy = cv2.findContours(thresh, cv2.RETR_EXTERNAL, cv2.CHAIN_APPROX_SIMPLE)\n",
    "\n",
    "# for i in range(len(contours)):\n",
    "# cv2.findContours(images, [contours[i]], 0, (0, 0, 255), 2)\n",
    "# cv2.findContours()\n",
    "contour_array = sorted(contours, key=cv2.contourArea, reverse=True)\n",
    "\n",
    "table_data = contour_array[0]\n",
    "x, y, w, h = cv2.boundingRect(table_data)\n",
    "\n",
    "print(x,y,w,h)"
   ],
   "metadata": {
    "collapsed": false,
    "ExecuteTime": {
     "end_time": "2023-05-16T17:39:29.176730Z",
     "start_time": "2023-05-16T17:39:29.133226200Z"
    }
   }
  },
  {
   "cell_type": "code",
   "execution_count": 174,
   "outputs": [
    {
     "name": "stdout",
     "output_type": "stream",
     "text": [
      "51 157\n"
     ]
    }
   ],
   "source": [
    "\n",
    "col_count = 8\n",
    "row_count = 20\n",
    "\n",
    "cell_width = w // col_count\n",
    "cell_height = h // row_count\n",
    "\n",
    "print(cell_height, cell_width)\n",
    "\n",
    "\n",
    "\n",
    "# cv2.putText(images, \"BIG AREA\", (x, y), cv2.FONT_ITALIC, 10, (255, 255, 0), 2)\n",
    "# cv2.rectangle(images, (x, y), (x + w, y + h), (255, 255, 0), 3)"
   ],
   "metadata": {
    "collapsed": false,
    "ExecuteTime": {
     "end_time": "2023-05-16T17:39:29.181730300Z",
     "start_time": "2023-05-16T17:39:29.148733700Z"
    }
   }
  },
  {
   "cell_type": "code",
   "execution_count": 175,
   "outputs": [
    {
     "data": {
      "text/plain": "(20, 8, 51, 157)"
     },
     "execution_count": 175,
     "metadata": {},
     "output_type": "execute_result"
    }
   ],
   "source": [
    "coord = [x, y]\n",
    "img_arr = []\n",
    "for y_ in range(row_count):\n",
    "    temp = []\n",
    "    for x_ in range(col_count):\n",
    "        # if x_ == 0:\n",
    "            # continue\n",
    "        cv2.rectangle(images, (coord[0],coord[1]), (coord[0]+cell_width,coord[1]+cell_height), (255,255,255), thickness=2)\n",
    "        # cv2.imshow(\"test\",img[coord[1]:coord[1]+cell_height,coord[0]:coord[0]+cell_width,  ])\n",
    "        # cv2.waitKey(0)\n",
    "        # cv2.destroyAllWindows()\n",
    "        temp.append(images[coord[1]:coord[1]+cell_height,coord[0]:coord[0]+cell_width])\n",
    "\n",
    "        coord[0] += cell_width\n",
    "\n",
    "    img_arr.append(temp)\n",
    "    coord[1] += cell_height\n",
    "    coord[0] = x\n",
    "\n",
    "img_arr = np.array(img_arr)\n",
    "img_arr.shape # return (row, col, height, width)"
   ],
   "metadata": {
    "collapsed": false,
    "ExecuteTime": {
     "end_time": "2023-05-16T17:39:29.181730300Z",
     "start_time": "2023-05-16T17:39:29.176730Z"
    }
   }
  },
  {
   "cell_type": "code",
   "execution_count": 176,
   "outputs": [],
   "source": [
    "resize = cv2.resize(images, dsize=(0,0), fx=0.5, fy=0.5, interpolation=cv2.INTER_LINEAR)\n",
    "cv2.imshow(\"area\", resize)\n",
    "cv2.waitKey(0)\n",
    "cv2.destroyAllWindows()"
   ],
   "metadata": {
    "collapsed": false,
    "ExecuteTime": {
     "end_time": "2023-05-16T17:39:59.946297300Z",
     "start_time": "2023-05-16T17:39:29.179231300Z"
    }
   }
  },
  {
   "cell_type": "code",
   "execution_count": 176,
   "outputs": [],
   "source": [],
   "metadata": {
    "collapsed": false,
    "ExecuteTime": {
     "end_time": "2023-05-16T17:39:59.961293300Z",
     "start_time": "2023-05-16T17:39:59.946796900Z"
    }
   }
  },
  {
   "cell_type": "code",
   "execution_count": 176,
   "outputs": [],
   "source": [],
   "metadata": {
    "collapsed": false,
    "ExecuteTime": {
     "end_time": "2023-05-16T17:39:59.977654200Z",
     "start_time": "2023-05-16T17:39:59.962293100Z"
    }
   }
  }
 ],
 "metadata": {
  "kernelspec": {
   "display_name": "Python 3",
   "language": "python",
   "name": "python3"
  },
  "language_info": {
   "codemirror_mode": {
    "name": "ipython",
    "version": 2
   },
   "file_extension": ".py",
   "mimetype": "text/x-python",
   "name": "python",
   "nbconvert_exporter": "python",
   "pygments_lexer": "ipython2",
   "version": "2.7.6"
  }
 },
 "nbformat": 4,
 "nbformat_minor": 0
}
