{
 "cells": [
  {
   "cell_type": "code",
   "execution_count": 1,
   "metadata": {
    "collapsed": true,
    "ExecuteTime": {
     "end_time": "2023-05-16T17:39:29.024292400Z",
     "start_time": "2023-05-16T17:39:29.007433600Z"
    }
   },
   "outputs": [],
   "source": [
    "import cv2\n",
    "import matplotlib.pyplot as plt\n",
    "import numpy as np"
   ]
  },
  {
   "cell_type": "code",
   "execution_count": 2,
   "outputs": [],
   "source": [
    "# img import 및 그레이스케일 화\n",
    "img = cv2.imread('img/20230516182409_00001.jpg')\n",
    "img = cv2.cvtColor(img, cv2.COLOR_BGR2GRAY)\n",
    "img = cv2.GaussianBlur(img, (5,5), 0)"
   ],
   "metadata": {
    "collapsed": false,
    "ExecuteTime": {
     "end_time": "2023-05-16T17:39:29.055291200Z",
     "start_time": "2023-05-16T17:39:29.023790800Z"
    }
   }
  },
  {
   "cell_type": "code",
   "execution_count": 3,
   "outputs": [],
   "source": [
    "# 색상 반전\n",
    "# invert = img.copy()\n",
    "# invert = 255 - invert\n",
    "# invert.size"
   ],
   "metadata": {
    "collapsed": false,
    "ExecuteTime": {
     "end_time": "2023-05-16T17:39:29.069833600Z",
     "start_time": "2023-05-16T17:39:29.055793100Z"
    }
   }
  },
  {
   "cell_type": "code",
   "execution_count": 3,
   "outputs": [],
   "source": [],
   "metadata": {
    "collapsed": false,
    "ExecuteTime": {
     "end_time": "2023-05-16T17:39:29.114842800Z",
     "start_time": "2023-05-16T17:39:29.070832700Z"
    }
   }
  },
  {
   "cell_type": "code",
   "execution_count": 4,
   "outputs": [],
   "source": [
    "# 임계값 지정\n",
    "ret, thresh = cv2.threshold(img, 210, 255, cv2.THRESH_BINARY_INV)\n",
    "\n",
    "# dilate (팽창)\n",
    "# dilate = cv2.dilate(thresh, (3,3), iterations=2)\n",
    "cv2.imshow(\"2\", thresh)\n",
    "cv2.waitKey(0)\n",
    "cv2.destroyAllWindows()"
   ],
   "metadata": {
    "collapsed": false,
    "ExecuteTime": {
     "end_time": "2023-05-16T17:39:29.131725800Z",
     "start_time": "2023-05-16T17:39:29.117344600Z"
    }
   }
  },
  {
   "cell_type": "code",
   "execution_count": 5,
   "outputs": [],
   "source": [
    "# 가장 넓이가 큰 경계값 찾기 ( 중앙의 결과값 테이블 )\n",
    "images, contours, hierarchy = cv2.findContours(thresh, cv2.RETR_EXTERNAL, cv2.CHAIN_APPROX_SIMPLE)\n",
    "# images = cv2.cvtColor(images, cv2.COLOR_GRAY2BGR)\n",
    "contour_array = sorted(contours, key=cv2.contourArea, reverse=True)\n",
    "\n",
    "table_data = contour_array[0]\n",
    "x, y, w, h = cv2.boundingRect(table_data)\n",
    "\n"
   ],
   "metadata": {
    "collapsed": false,
    "ExecuteTime": {
     "end_time": "2023-05-16T17:39:29.176730Z",
     "start_time": "2023-05-16T17:39:29.133226200Z"
    }
   }
  },
  {
   "cell_type": "code",
   "execution_count": 6,
   "outputs": [],
   "source": [
    "# 칸마다 마진을 두어 탐색 진행\n",
    "\n",
    "col_count = 8\n",
    "row_count = 20\n",
    "\n",
    "margin = [4, 2]\n",
    "\n",
    "cell_width = round(w / col_count) - margin[0]\n",
    "cell_height = round(h / row_count) - margin[1]\n",
    "\n",
    "# cv2.putText(images, \"BIG AREA\", (x, y), cv2.FONT_ITALIC, 10, (255, 255, 0), 2)\n",
    "# cv2.rectangle(images, (x, y), (x + w, y + h), (255, 255, 0), 3)"
   ],
   "metadata": {
    "collapsed": false,
    "ExecuteTime": {
     "end_time": "2023-05-16T17:39:29.181730300Z",
     "start_time": "2023-05-16T17:39:29.148733700Z"
    }
   }
  },
  {
   "cell_type": "code",
   "execution_count": 7,
   "outputs": [
    {
     "data": {
      "text/plain": "(20, 8, 66, 172)"
     },
     "execution_count": 7,
     "metadata": {},
     "output_type": "execute_result"
    }
   ],
   "source": [
    "coord = [x, y]\n",
    "img_arr = []\n",
    "for y_ in range(row_count):\n",
    "    row = []\n",
    "    for x_ in range(col_count):\n",
    "        # if x_ == 0:\n",
    "        # continue\n",
    "        position = [coord[0] - round(cell_width * 0.05), coord[1] - round(cell_height * 0.05)]\n",
    "        # if y_ % 2 == 0 and x_ < 4:\n",
    "        #     cv2.imshow(str(y_) + '-' + str(x_),\n",
    "        #                images[position[1]:position[1] + cell_height, position[0]:position[0] + cell_width])\n",
    "        #     cv2.waitKey(0)\n",
    "        #     cv2.destroyAllWindows()\n",
    "\n",
    "        # cv2.rectangle(images, (position[0], position[1]),\n",
    "        #               (position[0] + cell_width + round(cell_width * 0.1),\n",
    "        #                position[1] + cell_height + round(cell_width * 0.1)), (255, 255, 0),\n",
    "        #               thickness=2)\n",
    "\n",
    "        row.append(images[position[1]:position[1] + cell_height + round(cell_width * 0.1),\n",
    "                    position[0]:position[0] + cell_width + round(cell_width * 0.1)])\n",
    "\n",
    "        coord[0] += cell_width + margin[0]\n",
    "\n",
    "    img_arr.append(row)\n",
    "    coord[1] += cell_height + margin[1]\n",
    "    coord[0] = x\n",
    "\n",
    "img_arr = np.array(img_arr)\n",
    "# cv2.imshow(\"ctr\", images)\n",
    "# cv2.waitKey(0)\n",
    "# cv2.destroyAllWindows()\n",
    "img_arr.shape  # return (row, col, height, width)"
   ],
   "metadata": {
    "collapsed": false,
    "ExecuteTime": {
     "end_time": "2023-05-16T17:39:29.181730300Z",
     "start_time": "2023-05-16T17:39:29.176730Z"
    }
   }
  },
  {
   "cell_type": "code",
   "execution_count": 8,
   "outputs": [
    {
     "name": "stdout",
     "output_type": "stream",
     "text": [
      "x:8 y:57 | received 456\n",
      "x:12 y:57 | received 684\n",
      "x:16 y:5 | received 80\n",
      "x:21 y:5 | received 105\n",
      "x:16 y:57 | received 912\n",
      "x:24 y:5 | received 120\n",
      "x:30 y:53 | received 1590\n",
      "x:-26 y:1 | received -26\n",
      "x:63 y:12 | received 756\n",
      "x:86 y:13 | received 1118\n",
      "x:94 y:5 | received 470\n",
      "x:97 y:37 | received 3589\n",
      "x:97 y:5 | received 485\n",
      "x:98 y:5 | received 490\n",
      "x:103 y:9 | received 927\n",
      "x:120 y:5 | received 600\n",
      "x:141 y:5 | received 705\n",
      "x:8 y:5 | received 40\n",
      "x:8 y:57 | received 456\n",
      "x:12 y:5 | received 60\n",
      "x:16 y:5 | received 80\n",
      "x:16 y:57 | received 912\n",
      "x:30 y:1 | received 30\n",
      "x:32 y:25 | received 800\n",
      "x:32 y:22 | received 704\n",
      "x:32 y:44 | received 1408\n",
      "x:32 y:46 | received 1472\n",
      "x:31 y:48 | received 1488\n",
      "x:32 y:61 | received 1952\n",
      "x:58 y:6 | received 348\n",
      "x:79 y:7 | received 553\n",
      "x:103 y:35 | received 3605\n",
      "x:7 y:55 | received 385\n",
      "x:8 y:5 | received 40\n",
      "x:16 y:5 | received 80\n",
      "x:29 y:11 | received 319\n",
      "x:32 y:4 | received 128\n",
      "x:32 y:15 | received 480\n",
      "x:32 y:8 | received 256\n",
      "x:-92 y:55 | received -5060\n",
      "x:55 y:4 | received 220\n",
      "x:61 y:5 | received 305\n",
      "x:79 y:6 | received 474\n",
      "x:103 y:35 | received 3605\n",
      "x:99 y:13 | received 1287\n",
      "x:118 y:8 | received 944\n",
      "x:131 y:4 | received 524\n",
      "x:-1 y:57 | received -57\n",
      "x:7 y:3 | received 21\n",
      "x:15 y:57 | received 855\n",
      "x:-92 y:3 | received -276\n",
      "x:49 y:7 | received 343\n",
      "x:58 y:7 | received 406\n",
      "x:83 y:1 | received 83\n",
      "x:106 y:36 | received 3816\n",
      "x:108 y:3 | received 324\n",
      "x:136 y:28 | received 3808\n",
      "x:134 y:4 | received 536\n",
      "x:149 y:7 | received 1043\n",
      "x:5 y:56 | received 280\n",
      "x:15 y:5 | received 75\n",
      "x:18 y:55 | received 990\n",
      "x:26 y:56 | received 1456\n",
      "x:43 y:2 | received 86\n",
      "x:118 y:31 | received 3658\n",
      "x:5 y:4 | received 20\n",
      "x:18 y:3 | received 54\n",
      "x:21 y:54 | received 1134\n",
      "x:26 y:4 | received 104\n",
      "x:30 y:51 | received 1530\n",
      "x:-94 y:54 | received -5076\n",
      "x:47 y:7 | received 329\n",
      "x:65 y:1 | received 65\n",
      "x:91 y:3 | received 273\n",
      "x:107 y:30 | received 3210\n",
      "x:112 y:6 | received 672\n",
      "x:21 y:2 | received 42\n",
      "x:29 y:53 | received 1537\n",
      "x:-94 y:2 | received -188\n",
      "x:56 y:6 | received 336\n",
      "x:67 y:3 | received 201\n",
      "x:107 y:25 | received 2675\n",
      "x:111 y:35 | received 3885\n",
      "x:110 y:5 | received 550\n",
      "x:28 y:47 | received 1316\n",
      "x:29 y:1 | received 29\n",
      "x:-94 y:54 | received -5076\n",
      "x:17 y:53 | received 901\n",
      "x:20 y:53 | received 1060\n",
      "x:31 y:45 | received 1395\n",
      "x:30 y:38 | received 1140\n",
      "x:31 y:61 | received 1891\n",
      "x:-94 y:2 | received -188\n",
      "x:20 y:1 | received 20\n",
      "x:25 y:54 | received 1350\n",
      "x:31 y:8 | received 248\n",
      "x:31 y:11 | received 341\n",
      "x:8 y:54 | received 432\n",
      "x:12 y:54 | received 648\n",
      "x:25 y:2 | received 50\n",
      "x:-2 y:52 | received -104\n",
      "x:12 y:2 | received 24\n",
      "x:13 y:54 | received 702\n",
      "x:16 y:52 | received 832\n",
      "x:28 y:49 | received 1372\n",
      "x:-14 y:52 | received -728\n",
      "x:13 y:2 | received 26\n",
      "x:10 y:52 | received 520\n",
      "x:28 y:1 | received 28\n",
      "x:30 y:13 | received 390\n",
      "x:30 y:36 | received 1080\n",
      "x:30 y:40 | received 1200\n",
      "x:30 y:43 | received 1290\n",
      "x:29 y:46 | received 1334\n",
      "x:-2 y:52 | received -104\n",
      "x:5 y:53 | received 265\n",
      "x:9 y:53 | received 477\n",
      "x:17 y:53 | received 901\n",
      "x:30 y:6 | received 180\n",
      "x:30 y:19 | received 570\n",
      "x:-1 y:53 | received -53\n",
      "x:2 y:53 | received 106\n",
      "x:9 y:51 | received 459\n",
      "x:11 y:51 | received 561\n",
      "x:28 y:48 | received 1344\n",
      "x:30 y:18 | received 540\n",
      "x:-98 y:51 | received -4998\n",
      "x:5 y:52 | received 260\n",
      "x:28 y:45 | received 1260\n",
      "x:30 y:2 | received 60\n",
      "x:-98 y:50 | received -4900\n",
      "x:29 y:21 | received 609\n",
      "x:29 y:24 | received 696\n",
      "x:29 y:28 | received 812\n",
      "x:29 y:26 | received 754\n",
      "x:28 y:28 | received 784\n",
      "x:29 y:53 | received 1537\n",
      "x:-98 y:49 | received -4802\n",
      "x:-3 y:50 | received -150\n",
      "x:4 y:50 | received 200\n",
      "x:14 y:51 | received 714\n",
      "x:29 y:2 | received 58\n",
      "x:27 y:46 | received 1242\n"
     ]
    }
   ],
   "source": [
    "for y in img_arr:\n",
    "    for x in y:\n",
    "        img_ctr, contours_, _ = cv2.findContours(x, cv2.RETR_TREE, cv2.CHAIN_APPROX_NONE)\n",
    "        boundary = [cv2.boundingRect(each) for each in contours_]\n",
    "        boundary = sorted(boundary)\n",
    "\n",
    "        cv2.imshow(\"ctr\", x)\n",
    "        cv2.waitKey(0)\n",
    "        cv2.destroyAllWindows()\n",
    "\n",
    "        # 가장 밖에 있는 경계선 찾기\n",
    "        contour_sizes = [(cv2.contourArea(contour), contour) for contour in contours_]\n",
    "        biggest_contour = max(contour_sizes, key=lambda x: x[0])[1]\n",
    "\n",
    "        # 경계선 검은색으로 칠하기\n",
    "        cv2.drawContours(img_ctr, biggest_contour, -1, (0,0,0), 4)\n",
    "\n",
    "        cv2.imshow(\"ctr\", img_ctr)\n",
    "        cv2.waitKey(0)\n",
    "        cv2.destroyAllWindows()\n",
    "\n",
    "        # 칠한 경계선 지우고 다시 숫자의 경계 직사각형 찾기\n",
    "        # ret_, img_th = cv2.threshold(img_ctr, 127, 255, cv2.THRESH_BINARY_INV)\n",
    "        img_ctr, contours_, _ = cv2.findContours(img_ctr.copy(), cv2.RETR_EXTERNAL, cv2.CHAIN_APPROX_NONE)\n",
    "\n",
    "\n",
    "        # 경계 직사각형 그리기\n",
    "        boundary_rects = [cv2.boundingRect(each) for each in contours_]\n",
    "        boundary_rects = sorted(boundary_rects)\n",
    "        for rect in boundary_rects:\n",
    "            minimum = (cell_width * 0.05) * (cell_height * 0.05)\n",
    "\n",
    "            # if abs(rect[0] - rect[2]) > 10 and abs(rect[1] - rect[3]) > 10:\n",
    "            if (abs(rect[0] - rect[2]) * (rect[1] - rect[3])) > minimum:\n",
    "                print(f'x:{rect[0] - rect[2]} y:{rect[1] - rect[3]} | received {(rect[0] - rect[2]) * (rect[1] - rect[3])}')\n",
    "                cv2.rectangle(img_ctr, (rect[0], rect[1]), (rect[0]+rect[2], rect[1]+rect[3]), (255,255,255), 1)\n",
    "\n",
    "        cv2.imshow(\"ctr\", img_ctr)\n",
    "        cv2.waitKey(0)\n",
    "        cv2.destroyAllWindows()\n",
    "        break\n",
    "#\n",
    "#         img_indiv, ct, hi = cv2.findContours(x, cv2.RETR_EXTERNAL, cv2.CHAIN_APPROX_NONE)\n",
    "#\n",
    "#         rect = [cv2.boundingRect(each) for each in ct]\n",
    "#         rect = sorted(rect)\n",
    "#\n",
    "#         print(rect)\n",
    "#         for rec in rect:\n",
    "#             # print(rec)\n",
    "#             cv2.circle(img_indiv, (rec[0], rec[1]), 10, (0, 0, 255), -1)\n",
    "#             cv2.circle(img_indiv, (rec[0] + rec[2], rec[1] + rec[3]), 10, (0, 0, 255), -1)\n",
    "#             cv2.rectangle(img_indiv, (rec[0], rec[1]), (rec[0] + rec[2], rec[1] + rec[3]), (0, 255, 0), 3)\n",
    "#         cv2.imshow('a', img_indiv)\n",
    "#         cv2.waitKey(0)\n",
    "#         cv2.destroyAllWindows()\n",
    "#\n"
   ],
   "metadata": {
    "collapsed": false
   }
  },
  {
   "cell_type": "code",
   "execution_count": 9,
   "outputs": [],
   "source": [
    "resize = cv2.resize(images, dsize=(0, 0), fx=0.5, fy=0.5, interpolation=cv2.INTER_LINEAR)\n",
    "cv2.imshow(\"area\", resize)\n",
    "cv2.waitKey(0)\n",
    "cv2.destroyAllWindows()"
   ],
   "metadata": {
    "collapsed": false,
    "ExecuteTime": {
     "end_time": "2023-05-16T17:39:59.946297300Z",
     "start_time": "2023-05-16T17:39:29.179231300Z"
    }
   }
  },
  {
   "cell_type": "code",
   "execution_count": 9,
   "outputs": [],
   "source": [],
   "metadata": {
    "collapsed": false,
    "ExecuteTime": {
     "end_time": "2023-05-16T17:39:59.961293300Z",
     "start_time": "2023-05-16T17:39:59.946796900Z"
    }
   }
  },
  {
   "cell_type": "code",
   "execution_count": 9,
   "outputs": [],
   "source": [],
   "metadata": {
    "collapsed": false,
    "ExecuteTime": {
     "end_time": "2023-05-16T17:39:59.977654200Z",
     "start_time": "2023-05-16T17:39:59.962293100Z"
    }
   }
  }
 ],
 "metadata": {
  "kernelspec": {
   "display_name": "Python 3",
   "language": "python",
   "name": "python3"
  },
  "language_info": {
   "codemirror_mode": {
    "name": "ipython",
    "version": 2
   },
   "file_extension": ".py",
   "mimetype": "text/x-python",
   "name": "python",
   "nbconvert_exporter": "python",
   "pygments_lexer": "ipython2",
   "version": "2.7.6"
  }
 },
 "nbformat": 4,
 "nbformat_minor": 0
}
