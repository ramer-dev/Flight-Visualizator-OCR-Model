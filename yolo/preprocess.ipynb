{
 "cells": [
  {
   "cell_type": "code",
   "execution_count": 4,
   "metadata": {
    "collapsed": true,
    "ExecuteTime": {
     "end_time": "2023-05-23T05:18:05.471685900Z",
     "start_time": "2023-05-23T05:18:05.456684200Z"
    }
   },
   "outputs": [],
   "source": [
    "import numpy as np\n",
    "import matplotlib.pyplot as plt\n",
    "import cv2\n",
    "import json"
   ]
  },
  {
   "cell_type": "code",
   "execution_count": 16,
   "outputs": [],
   "source": [
    "def load_data():\n",
    "    x_train = np.load('../datasets/x_train.npy')\n",
    "    x_test = np.load('../datasets/x_test.npy')\n",
    "\n",
    "    with open('../datasets/y_train.json', 'r') as train:\n",
    "        y_train = json.load(train)\n",
    "    with open('../datasets/y_test.json', 'r') as test:\n",
    "        y_test = json.load(test)\n",
    "\n",
    "    plt.imshow(x_test[0], cmap=\"gray\")\n",
    "\n",
    "    return (x_train, y_train), (x_test, y_test)"
   ],
   "metadata": {
    "collapsed": false,
    "ExecuteTime": {
     "end_time": "2023-05-23T05:28:31.087347100Z",
     "start_time": "2023-05-23T05:28:31.063143300Z"
    }
   }
  },
  {
   "cell_type": "code",
   "execution_count": 17,
   "outputs": [],
   "source": [
    "def binarize_image(img_array):\n",
    "    ret, thresh = cv2.threshold(img_array, 127, 255, cv2.THRESH_BINARY + cv2.THRESH_OTSU)\n",
    "    return ret, thresh"
   ],
   "metadata": {
    "collapsed": false,
    "ExecuteTime": {
     "end_time": "2023-05-23T05:28:39.310335500Z",
     "start_time": "2023-05-23T05:28:39.301331900Z"
    }
   }
  },
  {
   "cell_type": "code",
   "execution_count": 13,
   "outputs": [
    {
     "name": "stdout",
     "output_type": "stream",
     "text": [
      "[[99, 167, 116, 187, 7], [124, 208, 144, 228, 9], [94, 33, 110, 53, 0], [136, 168, 142, 188, 1]]\n"
     ]
    }
   ],
   "source": [],
   "metadata": {
    "collapsed": false,
    "ExecuteTime": {
     "end_time": "2023-05-23T05:20:17.060950900Z",
     "start_time": "2023-05-23T05:20:17.015881800Z"
    }
   }
  },
  {
   "cell_type": "code",
   "execution_count": null,
   "outputs": [],
   "source": [],
   "metadata": {
    "collapsed": false
   }
  }
 ],
 "metadata": {
  "kernelspec": {
   "display_name": "Python 3",
   "language": "python",
   "name": "python3"
  },
  "language_info": {
   "codemirror_mode": {
    "name": "ipython",
    "version": 2
   },
   "file_extension": ".py",
   "mimetype": "text/x-python",
   "name": "python",
   "nbconvert_exporter": "python",
   "pygments_lexer": "ipython2",
   "version": "2.7.6"
  }
 },
 "nbformat": 4,
 "nbformat_minor": 0
}
